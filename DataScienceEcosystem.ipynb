{
 "cells": [
  {
   "cell_type": "markdown",
   "id": "6e4e5a74-2cb5-4814-8c62-bc94a3cfd80a",
   "metadata": {},
   "source": [
    "# Data Science Tools and Ecosystem"
   ]
  },
  {
   "cell_type": "markdown",
   "id": "a5252be1-2e06-4bed-be21-8689e7a0b777",
   "metadata": {},
   "source": [
    "This notebook provides a concise overview of key Data Science tools and the broader ecosystem, offering a comprehensive guide for practitioners navigating the diverse landscape of programming languages, libraries, and frameworks essential for effective data analysis and machine learning."
   ]
  },
  {
   "cell_type": "markdown",
   "id": "5f36f241-2477-41ab-a3b4-44a9bb938f03",
   "metadata": {},
   "source": [
    "**Objectives:**\n",
    "\n",
    "* List popular languages for Data Science\n",
    "* List of libraries used for Data Science\n",
    "* A sample of arithmetic expression\n",
    "* A sample table in Markdown cell"
   ]
  },
  {
   "cell_type": "markdown",
   "id": "a5061403-ba1b-48cf-aeb0-5e98411aa57e",
   "metadata": {},
   "source": [
    "Some of the popular languages that Data Scientists use are:\n",
    "1. Python\n",
    "2. R\n",
    "3. SQL\n",
    "4. Scala"
   ]
  },
  {
   "cell_type": "markdown",
   "id": "15994d62-0d54-43e6-a13c-350a7cbaa060",
   "metadata": {},
   "source": [
    "Some of the commonly used libraries used by Data Scientists include:\n",
    "1. Pandas\n",
    "2. NumPy\n",
    "3. Matplotlib\n",
    "4. Seaborn\n",
    "5. Scikit-learn\n",
    "6. Keras\n",
    "7. TensorFlow\n",
    "8. PyTorch\n"
   ]
  },
  {
   "cell_type": "markdown",
   "id": "4525ec8b-e13f-4895-92dd-97f387cd3379",
   "metadata": {},
   "source": [
    "| Data Science Tools      |\n",
    "|-------------------------|\n",
    "| Jupyter Notebooks       |\n",
    "| RStudio                 |\n",
    "| VS Code (with extensions)|\n"
   ]
  },
  {
   "cell_type": "markdown",
   "id": "43abf2c0-f6d6-44b8-a116-0f3634edd524",
   "metadata": {},
   "source": [
    "### Below are a few examples of evaluating arithmetic expressions in Python"
   ]
  },
  {
   "cell_type": "code",
   "execution_count": 1,
   "id": "e66a3bc0-b7fa-4d1a-a499-fe1c80f3816d",
   "metadata": {
    "tags": []
   },
   "outputs": [
    {
     "data": {
      "text/plain": [
       "17"
      ]
     },
     "execution_count": 1,
     "metadata": {},
     "output_type": "execute_result"
    }
   ],
   "source": [
    "# This a simple arithmetic expression to mutiply then add integers.\n",
    "\n",
    "(3*4)+5"
   ]
  },
  {
   "cell_type": "code",
   "execution_count": 5,
   "id": "1072140d-18a1-461a-be8d-ba2a3430282c",
   "metadata": {
    "tags": []
   },
   "outputs": [
    {
     "data": {
      "text/plain": [
       "3.3333333333333335"
      ]
     },
     "execution_count": 5,
     "metadata": {},
     "output_type": "execute_result"
    }
   ],
   "source": [
    "# This will convert 200 minutes to hours by diving by \n",
    "\n",
    "200/60"
   ]
  },
  {
   "cell_type": "markdown",
   "id": "68012502-3d82-4d17-847c-3d40713b431d",
   "metadata": {},
   "source": [
    "## Author\n",
    "Prabath Gunasinghe"
   ]
  }
 ],
 "metadata": {
  "kernelspec": {
   "display_name": "Python 3 (ipykernel)",
   "language": "python",
   "name": "python3"
  },
  "language_info": {
   "codemirror_mode": {
    "name": "ipython",
    "version": 3
   },
   "file_extension": ".py",
   "mimetype": "text/x-python",
   "name": "python",
   "nbconvert_exporter": "python",
   "pygments_lexer": "ipython3",
   "version": "3.11.4"
  }
 },
 "nbformat": 4,
 "nbformat_minor": 5
}
